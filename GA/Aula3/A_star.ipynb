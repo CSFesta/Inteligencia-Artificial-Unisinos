{
  "nbformat": 4,
  "nbformat_minor": 0,
  "metadata": {
    "colab": {
      "provenance": []
    },
    "kernelspec": {
      "name": "python3",
      "display_name": "Python 3"
    }
  },
  "cells": [
    {
      "cell_type": "markdown",
      "metadata": {
        "id": "sWEZvXOvhvFD"
      },
      "source": [
        "## Parte 2 - busca informada\n",
        "\n",
        "Agora implementaremos o algoritmo A$^*$ para encontrar o caminho mais curto em um labirinto. Para tal, considere como exemplo o labirinto super simples abaixo, onde se pretende sair do ponto (0,0) e chegar no ponto (7,6).\n",
        "\n",
        "![módulo2_labirinto.png](data:image/png;base64,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)\n"
      ]
    },
    {
      "cell_type": "markdown",
      "metadata": {
        "id": "5Ph_Tr22IIw1"
      },
      "source": [
        "Representaremos um labirinto através de uma matriz, onde números 0 representam posições livres e números 1 representam paredes. No exemplo abaixo, criamos um labirinto simples contendo apenas uma parede na vertical com duas posições livres para permitir o trânsito entre os dois lados do labirinto."
      ]
    },
    {
      "cell_type": "code",
      "metadata": {
        "id": "tROgZTAHEaU9"
      },
      "source": [
        "# The maze\n",
        "maze = [[0, 0, 0, 0, 1, 0, 0, 0, 0, 0],\n",
        "        [0, 0, 0, 0, 1, 0, 0, 0, 0, 0],\n",
        "        [0, 0, 0, 0, 1, 0, 0, 0, 0, 0],\n",
        "        [0, 0, 0, 0, 1, 0, 0, 0, 0, 0],\n",
        "        [0, 0, 0, 0, 1, 0, 0, 0, 0, 0],\n",
        "        [0, 0, 0, 0, 0, 0, 0, 0, 0, 0],\n",
        "        [0, 0, 0, 0, 1, 0, 0, 0, 0, 0],\n",
        "        [0, 0, 0, 0, 1, 0, 0, 0, 0, 0],\n",
        "        [0, 0, 0, 0, 1, 0, 0, 0, 0, 0],\n",
        "        [0, 0, 0, 0, 0, 0, 0, 0, 0, 0]]\n",
        "\n",
        "# Start and end positions\n",
        "start = (0, 0)\n",
        "end = (7, 6)"
      ],
      "execution_count": null,
      "outputs": []
    },
    {
      "cell_type": "markdown",
      "metadata": {
        "id": "67123BpuEgSx"
      },
      "source": [
        "Abaixo, temos uma implementação incompleta do algoritmo A$^*$. Em nossa implementação, o algoritmo é representado pela função `astar`, que recebe uma instância do problema (matriz representando um labirinto), uma posição inicial `(x,y)`, uma posição final `(x,y)` e uma função heurística. Ao ser executada, esta função retornará uma lista de posições representando o caminho mais curto (caso ele exista) entre a posição inicial e a final. Além disso, a função também retorna o número de iterações que foram necessárias para rodar o algoritmo."
      ]
    },
    {
      "cell_type": "code",
      "metadata": {
        "id": "TPiRQBMXzoSR"
      },
      "source": [
        "# Class for representing a node (or cell) in the map\n",
        "class Node():\n",
        "    def __init__(self, parent=None, position=None):\n",
        "        self.parent = parent\n",
        "        self.position = position\n",
        "\n",
        "        self.g = 0\n",
        "        self.h = 0\n",
        "        self.f = 0\n",
        "\n",
        "    def __eq__(self, other):\n",
        "        return self.position == other.position\n",
        "\n",
        "\n",
        "# A-star algorithm\n",
        "def astar(maze, start, end, heuristic):\n",
        "\n",
        "    # Create start and end node\n",
        "    start_node = Node(None, start)\n",
        "    start_node.g = start_node.h = start_node.f = 0\n",
        "    end_node = Node(None, end)\n",
        "    end_node.g = end_node.h = end_node.f = 0\n",
        "\n",
        "    # Initialize both open and closed list\n",
        "    open_list = []\n",
        "    closed_list = []\n",
        "\n",
        "    # Add the start node\n",
        "    open_list.append(start_node)\n",
        "\n",
        "    # Loop until you find the end\n",
        "    iterations = 0\n",
        "    while len(open_list) > 0:\n",
        "        iterations += 1\n",
        "\n",
        "        # Get the current node\n",
        "        current_node = open_list[0]\n",
        "        current_index = 0\n",
        "        for index, item in enumerate(open_list):\n",
        "            if item.f < current_node.f:\n",
        "                current_node = item\n",
        "                current_index = index\n",
        "\n",
        "        # Pop current off open list, add to closed list\n",
        "        open_list.pop(current_index)\n",
        "        closed_list.append(current_node)\n",
        "\n",
        "        # Found the goal\n",
        "        if current_node == end_node:\n",
        "            path = []\n",
        "            current = current_node\n",
        "            while current is not None:\n",
        "                path.append(current.position)\n",
        "                current = current.parent\n",
        "            return path[::-1], iterations # Return reversed path and the number of iterations to complete the algorithm\n",
        "\n",
        "        # Generate children\n",
        "        children = []\n",
        "        for new_position in [(0, -1), (0, 1), (-1, 0), (1, 0)]: # up, down, right, left\n",
        "\n",
        "            # Get node position\n",
        "            node_position = (current_node.position[0] + new_position[0], current_node.position[1] + new_position[1])\n",
        "\n",
        "            # Make sure within range\n",
        "            if node_position[0] > (len(maze) - 1) or node_position[0] < 0 or node_position[1] > (len(maze[len(maze)-1]) -1) or node_position[1] < 0:\n",
        "                continue\n",
        "\n",
        "            # Make sure walkable terrain\n",
        "            if maze[node_position[0]][node_position[1]] != 0:\n",
        "                continue\n",
        "\n",
        "            # Create new node\n",
        "            new_node = Node(current_node, node_position)\n",
        "\n",
        "            # Append\n",
        "            children.append(new_node)\n",
        "\n",
        "        # Loop through children\n",
        "        for child in children:\n",
        "\n",
        "            # Child is on the closed list\n",
        "            is_in_closed = False\n",
        "            for closed_child in closed_list:\n",
        "                if child == closed_child:\n",
        "                    is_in_closed = True\n",
        "                    break\n",
        "            if is_in_closed:\n",
        "                continue\n",
        "\n",
        "            # Create the f, g, and h values\n",
        "            child.g = current_node.g + 1\n",
        "            child.h = heuristic(child.position[0], child.position[1], end_node.position[0], end_node.position[1])\n",
        "            child.f = child.g + child.h\n",
        "\n",
        "            # Child is already in the open list\n",
        "            is_in_open = False\n",
        "            for open_node in open_list:\n",
        "                if child == open_node and child.g > open_node.g:\n",
        "                    is_in_open = True\n",
        "                    break\n",
        "            if is_in_open:\n",
        "                continue\n",
        "\n",
        "            # Add the child to the open list\n",
        "            open_list.append(child)"
      ],
      "execution_count": null,
      "outputs": []
    },
    {
      "cell_type": "markdown",
      "metadata": {
        "id": "3v-1MvbvFqY6"
      },
      "source": [
        "Note que, como descrito acima, um dos parâmetros do algoritmo é uma função heurística. Em nossa implementação, uma função heurística deve receber um par de pontos `(x1,y1)` e `(x2,y2)` e retornar a distância estimada entre eles usando uma heurística. O código abaixo apresenta um exemplo de função."
      ]
    },
    {
      "cell_type": "code",
      "metadata": {
        "id": "ePy0bJ1-FppG"
      },
      "source": [
        "def f_heuristica(x1, y1, x2, y2):\n",
        "    return x1-x2 + y1-y2"
      ],
      "execution_count": null,
      "outputs": []
    },
    {
      "cell_type": "markdown",
      "metadata": {
        "id": "wMdch1HGKUvN"
      },
      "source": [
        "Tendo definido os elementos acima, podemos agora testar o algoritmo. Para tal, basta executar o código abaixo."
      ]
    },
    {
      "cell_type": "code",
      "metadata": {
        "id": "DHGX4dw7KU52",
        "colab": {
          "base_uri": "https://localhost:8080/"
        },
        "outputId": "106caba7-ef7a-45d8-9f1e-dd0d8f5b0ca3"
      },
      "source": [
        "path = astar(maze, start, end, f_heuristica)\n",
        "print(path)"
      ],
      "execution_count": null,
      "outputs": [
        {
          "output_type": "stream",
          "name": "stdout",
          "text": [
            "([(0, 0), (0, 1), (0, 2), (0, 3), (1, 3), (2, 3), (3, 3), (4, 3), (5, 3), (5, 4), (5, 5), (5, 6), (6, 6), (7, 6)], 3132)\n"
          ]
        }
      ]
    },
    {
      "cell_type": "markdown",
      "metadata": {
        "id": "fAl412rxGVJP"
      },
      "source": [
        "Note que o algoritmo retorna uma lista de nós representando o menor caminho, que no nosso caso corresponde pode ser visualizado como abaixo.\n",
        "\n",
        "![módulo2_labirinto_resolvido.png](data:image/png;base64,iVBORw0KGgoAAAANSUhEUgAAAc4AAAHOCAYAAAAR5umwAAAI8nRFWHRteGZpbGUAJTNDbXhmaWxlJTIwaG9zdCUzRCUyMkVsZWN0cm9uJTIyJTIwbW9kaWZpZWQlM0QlMjIyMDIxLTA4LTE0VDAwJTNBNTAlM0EyMC40NzZaJTIyJTIwYWdlbnQlM0QlMjI1LjAlMjAoTWFjaW50b3NoJTNCJTIwSW50ZWwlMjBNYWMlMjBPUyUyMFglMjAxMV81XzApJTIwQXBwbGVXZWJLaXQlMkY1MzcuMzYlMjAoS0hUTUwlMkMlMjBsaWtlJTIwR2Vja28pJTIwZHJhdy5pbyUyRjE0LjYuMTMlMjBDaHJvbWUlMkY4OS4wLjQzODkuMTI4JTIwRWxlY3Ryb24lMkYxMi4wLjclMjBTYWZhcmklMkY1MzcuMzYlMjIlMjB2ZXJzaW9uJTNEJTIyMTQuNi4xMyUyMiUyMGV0YWclM0QlMjJYdzhLYjRVRmhEYWFFRXZTQzBvdCUyMiUyMHR5cGUlM0QlMjJkZXZpY2UlMjIlM0UlM0NkaWFncmFtJTIwaWQlM0QlMjJwZVhzQ2dMUTg5OEY4ZkFpUUFfTyUyMiUzRTFaM05jdG93RklXZmhyMWslMkJYZlowQ1RkWkpWRjF4NnNnS2NHTWNZcHBFOWZVMnglMkJKR2VtQzNTVWt5d0NGenVHRDglMkZWSjhuWG1xbjUlMkJ2RGNsdHZWaTZsME00dEVkWmlwNzdNb2lrU2E5biUyQk9rWTlUUlBhJTJGcDhpeXJhc2hkZ204MW4lMkYwRUJSRDlMMnU5TzVtdzg2WXBxdTN0OEdGMld6MG9ydUpsVzFyOXJlYnZabm05cWpiY3FtZHdPdWliTnpvejdycVZxZG9IbVdYJTJCQTlkTDFmamtXVmFuRjVabCUyQlBHd3lmWnJjcks3SzlDNm5HbTVxMHgzZW5SJTJCakRYelpIZXlPVzAzOU1ucjU3ZldLczMzZiUyRnNNSEQlMkZYVGJ2JTJCdmFOZFIlMkZqcDIzTiUyQjZiU3h4M0VURDNzVjNXblg3Zmw0dmpxdnYlMkJDJTJCOWlxV3pmOU05ayUyRjNIV3QlMkJYV21FcDBqYzlPWXRvOXN6S2JmOFdFNHJHNDdmZmowcmNzemtQNVUwbWF0dSUyRmFqMzJUWUlSJTJGZTZYQVNKZW53ZkglMkY1UnVJaHRMcjZNc1pZT1p3RHklMkZNJTJGdm1EcUh3eWtwcWtwaDVva3BaWUtITFhZb1JheFVvdHgxQktIbW1LbGx1T29wUTYxbUpSYUZ1R29aUTYxaEpVYXNEWElIV29wS2JVYzJCb1VEcldNbFJxd05SZ04lMkJBcGJ6b29OMkJ4STZXQXJTTEVWd1BaZzdKWXhkZzlrZE1zdFFYSWo3aURJTkNBMzRpNUNKQUp5SSUyQjRrbkFHRTRFYmNUWERHUDVEY2lEc0tLbVM3UU54VlVDSGJCZUxPUWh5d1hSZ1B4ZGhiaUFPMkN4RnhkeUVPMkM2TXRuYkZiZGVWYlhkdmRtOTEwNHprWnBGNmVwcjNQNTY2RGNDQnBJbDVCYyUyRmtIb3BIOFMzeFF3NDV0VEF4dDhCTURqaWdOREclMkZ3RXdPT0tZME1jZEFUQTQ1elRBeHo4Qk1EdGxDdUIySWU1UHpRQWc1clRBeHI4QkFDSmp4bGRzcFlDQUV6T3pLMVg4Q1FzaUpBZVdLJTJGbGNrWkE5WklDOFI4dSUyRnlIZ2doblYzNWQzWWZoSkNaMnIlMkJiJTJCeUNFek5UJTJCSGR3RElhUnJLMjdYdHNraE16aUhhMXVFa0s2dE9GemJKZ1RNNE9QJTJGSUNNRXpPQXhoMnRiaEpDdUhWTzR0blA1QXpCVHh4U3ViUk9DWG5wUDRkb09JV1NtcG5CdGh4QXlVMU80dGswSTZkb3h0V3M3NUpBWm5NSzFiVUpJMTQ0cFhOc2hoQ3lVb25CdGh4QXdneWNVcm0wVFFycDJ3dUhhOXFWUndFeWRjTGkyUlFqcDJnbUhhOXVFa0ptYXc3VnRRc2hNemVIYUZpR2theWZjcm0yVFEyWndEdGUyQ0NGZE8lMkJGd2Jac1FNSU9QcHlzWkllUU5DRGhjMnlLRWRPM1V2MnRiR2J6NDkzTW5jZ0Z2UDVQQ3J4UDNTUTdwNWluOE9uR3Y1SkFaSDM2ZHVGZHl5SllBZnAyNFQzSkl4MCUyQjVIVCUyRmdMV2xTJTJGNDRQUE9lUTdwJTJGNmQzOGtPV0FMa2ZudkV5REpBVnVJaktPdkVQQkdOSm4lMkZ2c0lkQ0RtM0ZnQm0lMkZJeGlYTjRtaEhUJTJGakdKYzNpR0V6T0FVNCUyRklPSVdTbXBoaVh0d2xCYnlGSjdld09PV1FHcHhpWHR3a2gzVHlqR0pkM0NBRXolMkJKZ0t5UWdCTTNoTzRkbzJJYVJyNXh5dUhiQzJNJTJCZHc3WUMxblRtSGF3ZXM3Y3c1WER0Z2JXZk80ZG9CYXp0emJ0Y09XTnVadzhmSGZaSkRPbmp1T3JqZVZKN2gzZk1HYnc0OFlOSXZPUFE4WURsb3dhSG5BY3RCQ3dvOWQlMkI1NkNrenVCWVdlMjRTUWVsNVE2TGxEQ0ptcEtmVGNJWVRNMUJSNmJoTkM2bm5oWDg5OUVFSm1hb29oYjVzUWRKVWtpaUZ2aHhBd1U4dngyR1NJa0tzZkNRcXJ0aEZCVnpvU0hGb2RzUEpUQ2c2dkRsajZLUVdIV0FlcyUyRlpTQ3c2d0RGbjlLd2FIV0FhcyUyRnBlQnc2NEJsbmxKd3lIWEFPazhwT093NllLR25uRmh3bEFFUmRHMVJEcnNPV09vcEp4WVMlMkZZcUlBdFoweW9rMVF3a1FRZTE2WW5sUUJrVFFkTTFoMXdITE1lWEVvcDhFaUtCMlBiRyUyQkp3TWlhTHJtc091QWxaUnlZdFZPQmtUSWREMnhRQ2NESW1TNmpqanNHbGNjMlQ5dGplbXVYbnZ1UCUyQlBxeFZUNnVNVmYlM0MlMkZkaWFncmFtJTNFJTNDJTJGbXhmaWxlJTNFfyRDtwAAIABJREFUeF7tnQtwVVWWsBf4KBsFoRVfjdqixsfYYIkoOrQVhVJbAioPUZSWFhtFcQTBbrDVAIIKLb5RUZE0voHxUcroAJrgrww+0NAqCEoTJqAEyBixhQLB/LXPcO4AAZOz1r7JPsl3qrra0rv23edba+/vrnNO7m1UWVlZKRwQgAAEIAABCNSIQCPEWSNOvAgCEIAABCAQEUCcFAIEIAABCEAgAQHEmQAWL4UABCAAAQggTmoAAhCAAAQgkIAA4kwAi5dCAAIQgAAEECc1AAEIQAACEEhAAHEmgMVLIQABCEAAAoiTGoAABCAAAQgkIIA4E8DipRCAAAQgAAHESQ1AAAIQgAAEEhBAnAlg8VIIQAACEIAA4qQGIAABCEAAAgkIIM4EsHgpBCAAAQhAAHFSAxCAAAQgAIEEBBBnAli8FAIQgAAEIIA4qQEIQAACEIBAAgKIMwEsXgoBCEAAAhBAnNQABCAAAQhAIAEBxJkAFi+FAAQgAAEIIE5qAAIQgAAEIJCAAOJMAIuXQgACEIAABBAnNQABCEAAAhBIQABxJoDFSyEAAQhAAAKIkxqAAAQgAAEIJCCAOBPA4qUQgAAEIAABxEkNQAACEIAABBIQQJy7gDVnzhx59tlnZfPmzdKzZ0+5+OKLEyCtnZeuWbNG+vXrJzNmzJAmTZrUzpvW8F2mT58ezWvr1q1y2WWXyQUXXCC/+MUvahid3ZdVVlbKo48+Km+++aYcdNBB0dy6d++e3TdVjh5zfPHFF5Uj+A/bsmWLXHvttTsM7NZHly5d/L+ZcsRPPvlEnnrqKfnss8+kffv2cuutt0qzZs2Uo/kNGzFihKxdu7bKoPfdd580bdrU75spR5s1a5ZMmzZNNm3aFK2NCy+8UBo3bqwczW+YW79PPvmkvPbaa9K8eXPp3bt3ndQe4twprx9++KGcdtppMmjQIOnQoYMMHDhQpkyZIj169PBbAcrRNmzYIC+99JJMnTpVZs+eLRUVFbL//vsrR/MfNnPmTMnLy5ObbrpJTjnlFLn99tvl0ksvlbFjx/p/M8WIjzzyiIwaNUqGDRsmBx54oFx11VXy9ttvy9lnn60YLXshy5cvl9atW0tOTo4sWbIke2+UcOR//OMfcvLJJ8s999yTiTz11FOjXIdwfPPNN3LcccdFH9jOO++8KNdu7bo6DOEoKCiQ7777LjOVN954Q1yuFy5cKPvss0+dT3HevHly/vnny/333y9OUkOGDIn2mosuuqjO5+Ym4D6QX3/99TJy5Ej56aefxH0Qcf/u3HPPrdX5Ic6dcPfv31/22GMPefzxx6P/MnToUCkuLpa33nqrVhOzuzf7+uuvo2L+9ttvgxSnm5vr1CdOnBidgvv/0aNHS1lZWRD8unXrJuecc44MHjw4mo9bcE4E48ePD2J+bhKuq8vNzZXDDjss2lBDEqdbB05G77zzTjC8tp+Iq7WPP/5YXnnllehfL168WL788ktxeQ/tWL16tbRt21bmzp0rxx9/fBDTGz58eLTfuSsy7nDCPPzww+Whhx4KYn5uPo6Zq0F3XH311dGVLdfc1OaBOHei3bFjx+gSqEuIOx577DHJz88PZuOPp/vpp59KmzZtgus4Fy1aFF0Wa9WqVTTVvn37Rpd83KWfEA63yNxlp6+++kree+89+cMf/hB9AOncuXMI04vmMGbMmGjDd52S+0QdkjifeOKJ6IPQkUceGXF0V2TcPPfee+8g+Ll6c5fg3eXQVatWyRVXXBFdzgvtdoaD5WTuhBnSh7Z3331Xfvvb38odd9wRdXRu7wtpfXTq1CnqiG+++eao3txe7fbCBQsW1Gr9Ic6dcB988MHy8MMPS69evaL/El96dJctQjpCFWfMaP369dHl2smTJ0eCOvPMM0PCJ7///e/l6aefju4ruc3CfQgJ4Zg/f350T8l9AHGdSGjidB2J+3Q/YcKESEzuEryT57hx40LAF91mcbdb3K2WAw44QO69995IAjfeeGMQ84sn4fJ8xhlnRIJ3twxCOUpLS6O1unLlymhKoa0Pd3/zrrvukgceeCD6QO6eQXG3NJYtW1arCBHnTriPPvro6P6X2wzc4R7QuPvuu2v9E011VRCyON3DGe5Toes63UNWoVyG2pmp27Quv/xy+fHHH6WwsLA65Fn/7+7D2THHHBM97OAeuHGXQ9092RdeeEHclZC99tor63Oo7g3cPXZ3xB3cLbfcEn04CuVSfLt27aKHRuJbK+6KkXsYzF3yDulwdefmGd/SCGVul1xyibhLyK5hcFcUXLe+7777SigPqH3//ffRw2nPPfdctL+4h79cZxxfmq8tjohzJ9LuUoB72CH+BH3nnXdG90hq+xp6dQUQqjg///zz6JP0bbfdFnWc7n5xSIebm8vtWWedFU1r0qRJ0aVR90m7rg93GXn7znfdunXinp4+8cQTo664RYsWdT1Fefnll+Wkk06SY489NsPPyT0UMbmnQFu2bBnl1R3uQTr3IdjJoFGjRnXOz03A5dXNMcQrMe5+pntOwa1dd7ink91Vj1A+GLk6c+vAzdPl84YbbpD99tsv6kJr80CcO9F2nwBdobhLZe5yhbtk667zx/c8azM5P/deoYpzwIAB8sUXX4i7FxYfTp6ukwrhcA9/uU7zwQcflD333DN64tc9LOTu24V2uEfu3dWPkO5xuvm4e14ffPCBlJSUSJ8+faLLZW7NhHC47tdt/O4yt+tIrrzyyuhhktreWH+Oxauvvhrd+3dPxIfyZx7xfN0T8eXl5dEzCe4yrcvvCSecEF2aD+FwVzjcnwu+//778tFHH4lrdFw9nn766bU6PcS5E2532c7J0hW3O9w/P//888F1Tu5v1H7zm99Ej7aH8jdqjpf7U4ClS5fuQNUtQHfPM4TDPXH5u9/9Lurk4vy6P6044ogjQpjeDnMIUZzuw6Tr6tx9RHe4S2VurRx66KFB8HNPdDtZusvb7nB/zuP+LtE9zBTK4Z7Udx+GXn/99VCmlJmHm9d1110X/YmWO9xtA/enKaF88HUP9TmZr1ixIlrD7h67k2ltH4hzN8Tdgw+uUzrkkENqOye8X5YJuM3V/e2c2+xD+tCR5dP2Orz7syh3qSwUYe58cu7vOd392KOOOiq4rs5rIrI0mLuc7P4sKtT9z13tcJe73f3XujgQZ11Q5z0hAAEIQCC1BBBnalPHxCEAAQhAoC4IIM66oM57QgACEIBAagkgztSmjolDAAIQgEBdEECcdUGd94QABCAAgdQSQJypTR0ThwAEIACBuiCAOOuCOu8JAQhAAAKpJYA4U5s6Jg4BCEAAAnVBAHHWBXXeEwIQgAAEUksAcaY2dUwcAhCAAATqggDirAvqvCcEIAABCKSWAOJMbeqYOAQgAAEI1AUBxFkX1HlPCEAAAhBILYF6I85Ro0YFnYSioqLM/HJzc4ObK/OzpQR+8LMRsEVTfzZ+20e731+u7qhX4hw5cmR158t/hwAEIAABCOySgHNIgxTnyAEDgiyJogULxP0vVLm7T6zuf8xPVz4xv65du+oGyHKU+4Fi9wPj5FcHmvWh4xZHhc7PzdOtjQYtzvwA5Xn2NddkxFmTTzS2Mk0effbZZ2fEyfz0/Jw48/Lykg+Q5YgJEyZkxEl+k8NmfSRntn1E6PzcrT7EiTgTV3nohZ2W+SHOxKUXBaQlvzXtSHQU9FHw07NzkYhzwACh40xeRCy85Mx29Ykaceo4Un86bnEU/Gz8ECfiVFUQC0+FLRMU80OcOo7Un44b4rRxi6MRJ+JUVRIblwob4rRhq8KPS6E6oKxfHTfEGd/cRZyqCmLhqbAhThs2xAk/TwRsw9BxIk5VBSFOFTbEacOGOOHniYBtGMSJOFUVhDhV2BCnDRvihJ8nArZhECfiVFUQ4lRhQ5w2bIgTfp4I2IZBnIhTVUGIU4UNcdqwIU74eSJgGwZxIk5VBSFOFTbEacOGOOHniYBtGMSJOFUVhDhV2BCnDRvihJ8nArZhECfiVFUQ4lRhQ5w2bIgTfp4I2IZBnIhTVUGIU4UNcdqwIU74eSJgGyYV4pwzZ448++yzsnnzZunZs6dcfPHFtrPe/kt6leJ8ubBQ2hx7rBzdqlWiudQ0jl9HSYS1yovTIna+ck+X57Tkl282qp/5DV6cH374oZx22mkyaNAg6dChgwwcOFCmTJkiPXr00GVkW1TmxJXibHvZZXJr//7Sq3PnRPOoaRziTIQVcdpwVYnmZ8VsQBF7/eYXvDj79+8ve+yxhzz++ONRJoYOHSrFxcXy1ltvmTJTU3G6DvHBF16QBYsXy0W5ufLwn/8sf506VcZMniytDjpIpowcKZ1PO03umjJFnnnjDdmyZYt06dhR/jp4cDS/M/r1k4E9e8o9zzwjue3aySPTp+8Qt7uTQJym9KbmZ6foOHV5Rkw6bnEU/Gz8ghdnx44dpV+/fnL11VdHZ/rYY4+J+2HdsrIy05nXRJzrKiqkZefOMu3uu6VFs2Yy9L775Mq8vEiMF/zbv0X/fF2vXvLNunXS+brr5PG//EVaNG0qvYYPl8dGjJCuZ50le51+ujRt0kSG9e0rF3TsKL2HD8/EHdi8+W7PAXGa0os4bfiEjtMGEDHVb37Bi/Pggw+Whx9+WHr16hVlYubMmZKXlyeVlZWmzNREnP+9erUcmZcnD/3pT9IvL0/+Z/162bhpkxx35JGy/SXXxcuXy7fffy+nn3SSrCwrk15//nMk17/07x+Jc0p+vvTr2jWaL5dqTWmrcXBaNi46zhqndIcXpiW/3OOsn/kNXpxHH320DBs2LLq36Y7p06fL3XffLQsWLNBlZFtUTcTpXjrhmWdk2P33R1FOhvfddJMce8QROwiwtKxM/jJxojz9H/8RdZfuGHrFFRlxLpo+XU446ijEacpYsuC0bKyIM1le41enJb+Is37mN3hxdurUSU499VQZN25clIE777xTvvzyy+gBIctRE3GWf/edfLt+vRx+8MEy7+9/l/xJk6J/fnbMmB3EOeTee2X+p5/KC3feKUceeqhcMny4/Evr1hlxLp4xQ47/9a8RpyVhCWPTsrEizoSJ3fbytOQXcdbP/AYvzokTJ8qIESNk0aJFsnLlyuiSrbvHGd/z1KVFpCbi/PiLLyR3wAApfv55af2rX0XidA8JvX7//dLuiitkQPfuck337pI3eLAcddhh0SXdOGZwnz5y+x//GF2q3V6c28f93Ny5x6nN7P/GpWVjRZy6PKclv4izfuY3eHH++OOPkSxfffXVKAPun59//vnoSVvLURNxuvFd9zh9zhw56Je/lOb77Rc9RXtmmzZyy8SJ0ZO07sGh/ffbT3r+6U/RdFq2aCEX/Ou/ysPTpsmCp5+Wdn37yhf//u/RfVF3bB/3c3/Kgjgt2UWcNnrCw0FGgIjdBjB0fsGLM8a/atWqSJaHHHKILSPbomsqTvfyFd98I5t//DG6t7n94R4WctLco3Fj2bR5s3y9bp38+tBDpVGjRrL222/ll/vvH/23nY/t43Z3MojTlubQF148PzpOXZ7Tkl86zvqZ39SIU4d/91FJxOn7vWsyHuKsCaXdvyYtGyvi1OU5LflFnPUzv4hT+c1BunKoeRTirDmrXb0yLRsr4tTlOS35RZz1M7+IE3GqKpuNS4UtE8SlWj/8EJOOI+tXxy2OQpyIU1VBLDwVNsRpw1aFH+LUAWX96rghzlGjxC26kYhTVUEsPBU2xGnDhjjh54mAbRg6TsSpqiDEqcKGOG3YECf8PBGwDYM4EaeqghCnChvitGFDnPDzRMA2DOJEnKoKQpwqbIjThg1xws8TAdswiBNxqioIcaqwIU4bNsQJP08EbMMgTsSpqiDEqcKGOG3YECf8PBGwDYM4EaeqghCnChvitGFDnPDzRMA2DOJEnKoKQpwqbIjThg1xws8TAdswiBNxqioIcaqwIU4bNsQJP08EbMM0WHHGG39uu3Y2glmKLl6yRCr++U/Jzc3N0jvYhi0uLpaKigrmp8QY88vJyVGOkN2w0tJS2bhxI/lVYmZ9KMFtCwudn5tmUVFRtD4KCwurPdlGlZWVldW+KgUviMWZgqkyRQhAAAIQCJBAgxVn38E9AkyHyKwZc6Vs5broawFDPAoKCqSkpIT5KZMT83O/jhLiMW/ePCkvLye/yuSwPpTgtoWFzs9N0+3NDU6c8TVqJ84rBne3ZTkL0TdfOkb+Pn9xlJz8/PwsvINtSO5x+uHHz4rpOFJ/Om5xFPxs/BrsPU7EaSscFp4ffohTx5H603FDnDZucTTipONUVRIblwpbJojf4/TDjysyOo6sXx03xLntZ8W4VKsrIBaejtvOn/jpOHUcqT8dNzpOGzfEiThNFcTGZcIndJx++NFx6jiyfnXcECfiNFUOC8+ED3Ha8GX4IU4dSNavjhviRJymymHhmfAhThs+xAk/IwFbOA8H8XCQqoIQpwpbJohLtX740XHqOLJ+ddzoOOk4TZXDwjPho+O04aPjhJ+RgC2cjpOOU1VBiFOFjY7Thq0KPzpOHVDWr44bHScdp6lyWHgmfHScNnx0nPAzErCF03HScaoqCHGqsNFx2rDRccLPEwHbMIgTcaoqCHGqsCFOGzbECT9PBGzDIE7EqaogxKnChjht2BAn/DwRsA2TGnGuWbNG+vXrJzNmzJAmTZrYzlpE+JJ3G0LE6YcfX7mn40j96bjFUfCz8QtenBs2bJCXXnpJpk6dKrNnz5aKigrZf//9bWeNOM38WHg2hPwdpx9+PFWr48j61XGLo4IX59dffy1DhgyRb7/9FnHacu01moVnw4k4/fBDnDqOrF8dt9SIM57op59+Km3atKHjtOXbWzQLz4YScfrhhzh1HFm/Om6Ik7/jNFUOC8+Ej7/jtOHj7zjhZyRgCw/+Ui0d50jJz8+3ZTkL0YjTBpWO0w8/Ok4dR9avjhsdJx2nqXJYeCZ8dJw2fHSc8DMSsIXTcfJ3nKoKQpwqbJkgOk4//Og4dRxZvzpuqes4P/vsM/nNb34j3333nTRr1sx21vw5ipkfC8+GEHH64Yc4dRxZvzpuqROn7TSrRvMFCDaiLDw//PgCBB1H6k/HLY6Cn41fai7V2k4Tcfrmx8KzEaXj9MOPjlPHkfWr40bHycNBpsph4Znw8XCQDR8PB8HPSMAWTsfJw0GqCkKcKmyZIDpOP/zoOHUcWb86bnScdJymymHhmfDRcdrw0XHCz0jAFk7HScepqiDEqcJGx2nDVoUfHacOKOtXx42Ok47TVDksPBM+Ok4bPjpO+BkJ2MLpOOk4VRWEOFXY6Dht2Og44eeJgG0YxIk4VRWEOFXYEKcNG+KEnycCtmEQJ+JUVRDiVGFDnDZsiBN+ngjYhkGciFNVQYhThQ1x2rAhTvh5ImAbBnEiTlUFIU4VNsRpw4Y44eeJgG0YxIk4VRWEOFXYEKcNG+KEnycCtmEQJ+JUVRDiVGFDnDZsiBN+ngjYhmmw4ow3/jYdTrARzFL0skUr5If1GyQ3NzdL72Abtri4WCoqKpifEmPMLycnRzlCdsNKS0tl48aN5FeJmfWhBLctLHR+bppFRUXR+igsLKz2ZBtVVlZWVvuqFLwgFmcKpsoUIQABCEAgQAINVpx9B/cIMB0is2bMlbKV68R9pViIR0FBgZSUlDA/ZXJifu73OEM85s2bJ+Xl5eRXmRzWhxLctrDQ+blpur25wYmTH7K2FTb3OP3w44esdRypPx23OAp+Nn4N9h4n4rQVDgvPDz/EqeNI/em4IU4btzgacfJUraqS2LhU2DJB/B6nH378OoqOI+tXxw1x8usopsph4Znw8esoNnz8Ogr8jARs4XScdJyqCkKcKmx0nDZsVfjRceqAsn513Og46ThNlcPCM+Gj47Tho+OEn5GALZyOk45TVUGIU4WNjtOGjY4Tfp4I2IZBnIhTVUGIU4UNcdqwIU74eSJgGwZxIk5VBSFOFTbEacOGOOHniYBtGMSJOFUVhDhV2BCnDRvihJ8nArZhECfiVFUQ4lRhQ5w2bIgTfp4I2IZBnIhTVUGIU4UNcdqwIU74eSJgGwZxIk5VBSFOFTbEacOGOOHniYBtGMSJOFUVhDhV2BCnDRvihJ8nArZhUiHO6dOny4wZM2Tr1q1y2WWXyQUXXCC/+MUvTGfOl7yb8PEH6DZ8fAGCJ358c5AOJB98ddziqODFOXPmTMnLy5ObbrpJTjnlFLn99tvl0ksvlbFjx5rOHHGa8CFOGz7E6Ykf4tSBRJw6bqkR55AhQ2Tz5s0yceLEaM7u/0ePHi1lZWWmM0ecJnyI04YPcXrihzh1IBGnjltqxLlo0SJp1qyZtGrVKppz3759ZdOmTTJt2jTTmSNOEz7EacOHOD3xQ5w6kIhTxy014ownun79+uhy7eTJk+W9996TM88803TmiNOED3Ha8CFOT/wQpw4k4tRxS5U4P/nkEzn//POjrvPZZ5+V448/3nbWIoI4bQhZeH74de3aNbqHH9oxYcIEWbp0qSAmXWZYHzpucVTo/IJ/OOjzzz+XM844Q2677bao49xjjz1sGdkWjThtGEMv7LTMD3Hq6jAt+eWDR/3Mb/DiHDBggHzxxRfyxBNPZDLg5HnMMcfoMoI4TdzS8okwLRsr4tSVY1ryizjrZ36DF+dxxx0XXTLa/mjatKm4e56Wg47TQk+4x2nDxz1OT/wQkw4kHzx03FJ1j9N2iruORpw2qiw8P/zoOHUcqT8dN64Y2bghzlGjogcf+vKVe6pKYuNSYcsExfwQp44j9afjhjht3BAn4jRVEBuXCR+Xam34uFUAPyMBW3jw9zhtp7f7aC7V2sgiTj/86Dh1HKk/HTc6Ths3Ok46TlMFsXGZ8NFx2vDRccLPSMAWTsfJPU5VBSFOFTbucdqwVeHHU7U6oKxfHTc6TjpOU+Ww8Ez46Dht+Og44WckYAun46TjVFUQ4lRho+O0YaPjhJ8nArZhECfiVFUQ4lRhQ5w2bIgTfp4I2IZBnIhTVUGIU4UNcdqwIU74eSJgGwZxIk5VBSFOFTbEacOGOOHniYBtGMSJOFUVhDhV2BCnDRvihJ8nArZhECfiVFUQ4lRhQ5w2bIgTfp4I2IZBnIhTVUGIU4UNcdqwIU74eSJgG6bBijPe+Nt0OMFGMEvRyxatkB/Wb5Dc3NwsvYNt2OLiYqmoqGB+Sowxv5ycHOUI2Q0rLS2VjRs3kl8lZtaHEty2sND5uWkWFRVF66OwsLDak21UWVlZWe2rUvCCWJwpmCpThAAEIACBAAk0WHG6nxUL8Zg1Y66UrVwX/fRZiEdBQYGUlJQwP2VyYn7uS95DPObNmyfl5eXkV5kc1ocS3Law0Pm5abq9ucGJk19HsRU29zj98OPXUXQcqT8dtzgKfjZ+DfYeJ+K0FQ4Lzw8/xKnjSP3puCFOG7c4GnHyVK2qkti4VNgyQTE/xKnjSP3puCFOGzfEya+jmCqIjcuEj19HseHj11HgZyRgC6fjpONUVRDiVGGj47Rhq8KP3+PUAWX96rjRcdJxmiqHhWfCR8dpw0fHCT8jAVs4HScdp6qCEKcKGx2nDRsdJ/w8EbANgzgRp6qCEKcKG+K0YUOc8PNEwDYM4kScqgpCnCpsiNOGDXHCzxMB2zCIE3GqKghxqrAhThs2xAk/TwRswyBOxKmqIMSpwoY4bdgQJ/w8EbANgzgRp6qCEKcKG+K0YUOc8PNEwDYM4kScqgpCnCpsiNOGDXHCzxMB2zCIE3GqKghxqrAhThs2xAk/TwRswwQvTvfzn48++qi8+eabctBBB8kFF1wg3bt3t521iPAl7zaEiNMPP76rVseR+tNxi6PgZ+MXvDgfeeSRSHLDhg2TAw88UK666ip5++23o28OsRyI00JP+OYWGz6+OcgTP75yTwcSceq4xVHBi7Nbt25yzjnnyODBg6M5n3vuuXLyySfL+PHjTWeOOE34EKcNH+L0xA9x6kAiTh231Ihz69at0rhxY/nqq6/kvffekz/84Q8ye/Zs6dy5s+nMEacJH+K04UOcnvghTh1IxKnjlhpxxhP9/e9/L08//bQ0bdpU3n33XWnTpo3pzBGnCR/itOFDnJ74IU4dSMSp45Y6cboJr127Vi6//HL58ccfpbCw0HTmiNOED3Ha8CFOT/wQpw4k4tRxS404zzjjDBk3bpycddZZ0ZwnTZokY8aMkdLSUtOZI04TPsRpw4c4PfFDnDqQiFPHLTXi7N+/f9RpPvjgg7LnnnvKpZdeGj0sNHr0aNOZI04TPsRpw4c4PfFDnDqQiFPHLTXi/Pjjj+V3v/udrFmzJppzr1695J577pEjjjjCdOaI04QPcdrwIU5P/BCnDiTi1HFLjTjdRDdv3izLly+XQw89VJo1a2Y7423RiNOGkYXnhx9fgKDjSP3puMVR8LPxC/7vOG2nt/toxGkjy8Lzww9x6jhSfzpuiNPGLVUdp59T3XEUxGmjysblhx/i1HGk/nTcEKeNG+IcNUrc/ZG+fMm7qpLYuFTYMkExP8Sp40j96bghThs3xIk4TRXExmXCx8NBNnw8nAY/IwFbOPc46ThVFYQ4VdjoOG3YqvDjqVodUNavjhsdJx2nqXJYeCZ8dJw2fHSc8DMSsIXTcdJxqioIcaqw0XHasNFxws8TAdswiBNxqioIcaqwIU4bNsQJP08EbMMgTsSpqiDEqcKGOG3YECf8PBGwDYM4EaeqghCnChvitGFDnPDzRMA2DOJEnKoKQpwqbIjThg1xws8TAdswiBNxqioIcaqwIU4bNsQJP08EbMMgTsSpqiDEqcKGOG3YECf8PBGwDdNgxRlv/G06nGAjmKXoZYtWyA/rN0hubm6W3sE2bHFxsVRUVDA/JcaYX05OjnKE7Ia5H4rfuHEj+VViZn0owW0LC52fm2ZRUVG0PgoLC6s92UaVlZWV1b4qBS9pxiClAAAgAElEQVSIxZmCqTJFCEAAAhAIkECDFaf7kvcQj1kz5krZynXRF9GHeBQUFEhJSQnzUyYn5ue+5D3EY968eVJeXk5+lclhfSjBbQsLnZ+bptubG5w4+VkxW2Fzj9MPP34dRceR+tNxi6PgZ+PXYO9xIk5b4bDw/PBDnDqO1J+OG+K0cYujESdP1aoqiY1LhS0TxO9x+uHHr6PoOLJ+ddwQJ7+OYqocFp4JH7+OYsPHr6PAz0jAFk7HScepqiDEqcJGx2nDVoUfHacOKOtXx42Ok47TVDksPBM+Ok4bPjpO+BkJ2MLpOOk4VRWEOFXY6Dht2Og44eeJgG0YxIk4VRWEOFXYEKcNG+KEnycCtmEQJ+JUVRDiVGFDnDZsiBN+ngjYhkGciFNVQYhThQ1x2rAhTvh5ImAbBnEiTlUFIU4VNsRpw4Y44eeJgG0YxIk4VRWEOFXYEKcNG+KEnycCtmEQJ+JUVRDiVGFDnDZsiBN+ngjYhkGciFNVQYhThQ1x2rAhTvh5ImAbJlXinD59usyYMUNefPFF21mLCF/ybkOIOP3w40vedRypPx23OAp+Nn6pEefy5culdevWkpOTI0uWLLGdNeI082Ph2RDyJe9++PGVezqOrF8dtzgqFeLcsmVL9IOhhx12mCxcuBBx2nLuJZqFZ8OIOP3wQ5w6jqxfHbdUiXPMmDGyePFi6dGjh4wYMQJx2nLuJZqFZ8OIOP3wQ5w6jqxfHbfUiHP+/Ply4YUXyqJFi2Tu3LmI05Zvb9EsPBtKxOmHH+LUcWT96rilQpyVlZVyzDHHSJcuXeTiiy+Wd955Rx555BF54YUXpGPHjrLXXnupz56Hg9TookAWnh9+PByk40j96bjFUfCz8Qv6HufWrVulTZs2mTNct26drFmzRk488UR59913pUWLFuqzR5xqdIjThm4HfohTB5ONX8cNcdq4paLj3PkUX3vtNRk2bBj3OP3k3jQKG5cJH7/HacPHFQ/4GQnYwoPuOBHnYuEejq7A0yJ2Os76nV/Wb/3Mb6rEqUvBrqO4VGujmRYxhb5xIU5dHVJ/Om5cqrVxS+WlWj+n/L+jIE4bTTYuP/wQp44j9afjhjht3BDnqFHRZdC+fFetqpLYuFTYMkH8OYoffqFfUWB+ujyHvr9wqRZxqio79MJOy/zoOFXlx8NBOmxVPrghdh1IxIk4VZWTFjGFvjEgTlX5IU4dNsRp5MalWi7VmkoIcZrw8ecoNnyIE35GArZwOk46TlUFIU4VNu5x2rDRMcHPEwHbMIgTcaoqCHGqsCFOGzbECT9PBGzDIE7EqaogxKnChjht2BAn/DwRsA2DOBGnqoIQpwob4rRhQ5zw80TANgziRJyqCkKcKmyI04YNccLPEwHbMIgTcaoqCHGqsCFOGzbECT9PBGzDIE7EqaogxKnChjht2BAn/DwRsA2DOBGnqoIQpwob4rRhQ5zw80TANkyDFWe88bfpcIKNYJaily1aIT+s3yC5ublZegfbsMXFxVJRUcH8lBhjfjk5OcoRshtWWloqGzduJL9KzKwPJbhtYaHzc9MsKiqK1kdhYWG1J9uosrKystpXpeAFsThTMFWmCAEIQAACARJosOJ0v44S4jFrxlwpW7ku+vWWEA/mZ8sK/BoGP/ddySEeBQUFUlJSEv1CVIhH6PNzzBy7BifOtPweZ+g/e8b8dNvOzZeOkb/PXxz8z9qRX1t+Q/+RAeany2+DvceJOHUFE0ex8cPPRsAWnZb6Q0y6PIf+8CHiDPypWj7x6xZeWjZW8lu/84s4dflFnDpuWY+i47QhRkzwsxGwRael/hCnLs+IU8ct61GI04Y4LRsXHZ0uz+RXx23nWxmIU8cRceq4ZT0KcdoQs7HCz0bAFp2W+kOcujwjTh23rEchThvitGxcdJy6PJNfHTc6Thu3OBpx+uHofRTEaUPKxgo/GwFbdFrqj45Tl2fEqeOW9SjEaUOclo2LjlOXZ/Kr40bHaeNGx+mHX9ZGQZw2tGys8LMRsEWnpf7oOHV5puPUcct6FOK0IU7LxkXHqcsz+dVxo+O0caPj9MMva6MgThtaNlb42QjYotNSf3ScujzTceq4ZT0KcdoQp2XjouPU5Zn86rjRcdq40XH64Ze1URCnDS0bK/xsBGzRaak/Ok5dnuk4ddwyUVu2bJFrr712h1Euvvhi6dKli2lkxGnCJ2nZuOg4dXkmvzpudJw2bnScfvjJP/7xDzn55JPlnnvuyYx46qmnyimnnGJ6B8Rpwoc4bfjg10D40XHqEk3HqeOWiXrrrbfESe6dd94xjrRjOOK04aQjgZ+NgC06LfWHOHV5Rpw6bpmoJ554QkaPHi1HHnmkNG7cWAYOHCg9evSQvffe2zQy4jTho2Oy4YNfA+GHOHWJRpw6bpmo4cOHy5QpU2TChAmyatUqGTt2bCTPcePGmUZGnCZ8bPw2fPBrIPwQpy7RiFPHLRO1YcOG6J+bNGkS/f8tt9wikydPlrKyMtPIiNOEj43fhg9+DYQf4tQlGnHquGWiXn75ZTnppJPk2GOPjf7dpEmT5JFHHpGFCxeaRkacJnxs/DZ88Gsg/BCnLtGIU8ctEzVs2DCZPXu2fPDBB1JSUiJ9+vSRnj17yogRI0wjI04TPjZ+Gz74NRB+iFOXaMSp45aJWrlypXTv3l0+/PDD6N+1b99eXn31VTn00ENNIyNOEz42fhs++DUQfohTl2jEqeNWJerrr7+WRo0amYUZD4w4bYlJy58D8AUIujyTXx23OCrmhzh1HBGnjlvWoxCnDTEbK/xsBGzRaak/xKnLM+LUcct6FOK0IU7LxkXHqcsz+dVxo+O0cYujEacfjt5HQZw2pGys8LMRsEWnpf7oOHV5Rpw6blmPQpw2xGnZuOg4dXkmvzpudJw2bnScfvhlbRTEaUPLxgo/GwFbdFrqj45Tl2c6Th23rEchThvitGxcdJy6PJNfHTc6Ths3Ok4//LI2CuK0oWVjhZ+NgC06LfVHx6nLMx2njlvWoxCnDXFaNi46Tl2eya+OGx2njRsdpx9+WRsFcdrQsrHCz0bAFp2W+qPj1OWZjlPHLetRiNOGOC0bFx2nLs/kV8eNjtPGjY7TD7+sjYI4bWjZWOFnI2CLTkv90XHq8kzHqeOW9SjEaUOclo2LjlOXZ/Kr40bHaeNGx+mHX9ZGQZw2tGys8LMRsEWnpf7oOHV5puPUcct6VJyYNh1OyPp7ad5g2aIV8sP6DcL8NPRE4KfjFkfBzw+/3Nxc20BZii4uLpaKigphfnrARUVFEb/CwsJqB2lUWVlZWe2rUvCCWJwpmCpThAAEIACBAAk0WHG6SykhHgUFBVJSUiLMT5edtPDr2rWr7gSzHDVv3jwpLy8Pvv7cPewQj1kz5krZynXB82N/0VePY9fgxBnf4+QehK5wQr8HkZb5OXHm5eXpkpDFqAkTJsjSpUujjT8/Pz+L76QbOs5v6A9/hc6P+enqL6k/6s2l2qQnrsOrj0rLxs/C0+U4zi/itPFDnDZ+rF8dv6T+QJw6zomjEGdiZDsEpIUf4tTlmY5Txy2OSsv6CFXsiDPwS1GhFg4Lz8/GhTh1HBGnjhvitHGLoxEn4lRVEuJUYcsEcanWDz8u1eo4sn513BDnqFHRgw90dLoCYuHpuO38iZ+OU8eRjlPHjY7Txg1xIk5TBSFOEz6h4/TDj45Tx5H1q+OGOBGnqXJYeCZ8iNOGL8MPcepAsn513BAn4jRVDgvPhA9x2vAhTk/8uFWlA8nDQTwcpKocxKnCxsNBNmxV+NFx6oCyfnXc6DjpOE2Vw8Iz4aPjtOGj4/TEj45TB5KOk45TVTmIU4WNjtOGjY7TMz/EqQOKOBGnqnIQpwob4rRhQ5ye+SFOHVDEiThVlYM4VdgQpw0b4vTMD3HqgKZCnJ988ok89dRT8tlnn0n79u3l1ltvlWbNmunOeFtU0hM3vZkiGDEpoG0XkhZ+fAGCLs98AYKOWxyVlvURqtiT+qPWv+T9m2++keOOO04uu+wyOe+888RNuEePHnL77bebKifpiZveTBFMYSugIU4btO2i+VkxG8qbLx0jf5+/mG8mU2IMff9L6o9aF+fo0aPl448/lldeeSVKweLFi+XLL7+Ubt26KVPyv2FJT9z0Zorg0AuH+SmSugux03HqONJx6rjRcdq4xdFJ/VHr4uzbt68cdNBBsnbtWlm1apVcccUV0rt3b2nSpImJQNITN72ZIhgxKaDRcdqg0XF640fHaUMZ+v6X1B+1Ls7TTjtNPvzwQxk0aJAccMABcu+998odd9whN954oykzSU/c9GaK4NALh/kpkkrHaYO2C358AYIOKetXxy01HWe7du2kefPm8tZbb0Vzfuyxx+TRRx+VhQsXms4ccZrwZf4APdSb92nZGLhUq6tDLtXquHGp1sYtNeLs3r27tGzZUiZNmhTN+aWXXpKBAwfK6tWrpVGjRmoKiFONLgpMi5hCFzvi1NUh4tRxQ5w2bqkR5+TJk2XIkCEyd+5cadWqlVx55ZXStm1bueuuu0wEEKcJH+K04eMr9zzx41KtDiQffHXcUiPOzZs3R7J84YUXojnn5OTIrFmz5MgjjzSdOeI04UOcNnyI0xM/xKkDiTh13FIjznii7u85N2zYIEcddZQ0btzYdtb8OYqZHwvPhpAfsvbDD3HqOLJ+ddxSJ07baVaNpuO0EWXh+eHHPU4dR+5x6rjFUaxfG7+k/qj1P0exnd7uo5OeeLbmsbtxKWwb8bTwQ5y6PCNOHTfEaeNGx8nvcZoqKC1i4qlaXZr5yj0dtziKL0Cw8Qt9f0naeNFx2uqhxtGhFw7zq3Eqd/lC7nH64cc9Th1H1q+OGx0nHaepclh4Jnw8VWvDl+GHOHUgWb86bogTcZoqh4Vnwoc4bfgQpyd+od/KCHV+XKrlh6xVSxBxqrBlgrhU64cfHaeOI+tXx42Ok47TVDksPBM+Ok4bPjpOT/xC7ehC31/oOOk4VUsw9MJOy/z4cxRV+SFOHbYqVzwQpw4k4kScqspJi5hC3xgQp6r8EKcOG+I0cuNSLZdqTSWEOE34uFRrw4c4PfEL/YNlqPOj46TjVC1BxKnCxsNBNmxV+PFwkA4o61fHjY6TjtNUOSw8Ez46Ths+Ok5P/ELt6ELfXxpsxxknJjc311iC2QkvLi6WiooKYX46vmnh534mL8SjtLRUNm7cGHz9telwQoj4ZNmiFfLD+g3B82N/0ZdPUVFRlN/CwsJqB6k3X7kXi7PaM+YFEIAABCAAgV0QaLDidJcqQjwKCgqkpKREmJ8uO2nh556qDfGYN2+elJeXh19/AwaEiE8KXntNSr75Jnx+7H/q+nF7c4MTZ9Jr1Gq6ysDQr/EzP2Vit4XxzUF++I0cMEDyA5Tn2ddcI0ULFkTizM/Pt51sFqJZvzaoSf1Rby7VJj1xG+bk0RR2cmbbR6SFH3/HqctzJr+IUwUwLesj1A8eSf2BOFVlmjyIwk7ODHHamG0fnZbf46Tj1OWc/UXHLY5CnFxKUVUQC0+FLRPEpVo//BCnjiPrV8cNcfJ3nKbKYeGZ8PF3nDZ8GX6IUweS9avjhjgRp6lyWHgmfIjThg9x+uLHFTcVSS7VUjiqwkGcKmxcqrVhq8KPjlMHlPWr40bHScdpqhwWngkfHacNHx2nL340DiqSdJwUjqpwEKcKGx2nDRsdp29+7H8qooiTwlEVDuJUYUOcNmyI0zc/9j8VUcRJ4agKB3GqsCFOGzbE6Zsf+5+KKOKkcFSFgzhV2BCnDRvi9M2P/U9FFHFSOKrCQZwqbIjThg1x+ubH/qciijgpHFXhIE4VNsRpw1an4tyydavsucceNToDvuS9Rph2+6LQ95fgxTlixAhZu3ZtFcD33XefNG3aVJ2dpCeufiNlYOiFw/yUid0Wxlfu+eFXm3/H2eyss+T/PfmktK3Bj48jTk/5DbSxSeqPWv+Sd/e7it99910mC2+88YYsX75cFi5cKPvss486O0lPXP1GykDEpAS3k5hC/XUFxOkpv7X46yiI05azJNGh739J/VHr4twe9urVq6Vt27Yyd+5cOf7445Pkocprk5646c0UwaEXDvNTJHW7EMTph19NO84PPv9cht1/vyxZsULO69BB7hs6VA7Yf3+Z9NJLsmrNGln+9dcya/58aXf88fK3UaOkZYsW8tmyZXLjPffIyrIyufS882T0E09I8XPP0XHaUlej6ND3l6T+qFNxduvWLRLm+PHjawT/516U9MTNb5hwgNALh/klTOhOL0ecfvjVRJxl//M/csi558oNvXtLz06dZPzUqbL+hx/knSeekPxJkyIhjrrmGjmxdWu5ftw4ub5XL7n9j3+Uoy+8UI494gjpf+GF8sDzz8t7CxciTlvaahwd+v6S1B91Js758+fLGWecEd3vPPDAA2ucgN29MOmJm98w4QChFw7zS5hQxGkDtht+NRHn/c89JxOeeUb+e+ZMadSoUdR1Ht+jh3zzn/8pj86YIYUffRRJ1B23TJwoK775Rty4Od27y9o5c+TA5s3lkyVL5JTLL0ecXrO4+8FC31+S+qPOxHn55ZdL8+bNZeLEiV5Sl/TEvbxpgkFCLxzmlyCZu3gpHacffjUR5w3jx8vD06ZVecNPX3xRps+ZI/+9erVMyc+P/vu4v/1N3v/sM+nSsaOM/9vfZMlLL0X/futPP8mep52GOG1pq3F06PtLUn/UiTjXrVsnLVu2lPfee0/OPPPMGsP/uRcmPXEvb5pgkNALh/klSCbitMH6GX41Eedtjz4q//lf/yVFjz8ejfTjli3R/cv2J54oY596KrrH+eRtt+0gzkGXXCKdBg6UH99/P/oTFNeF/rprV8TpPZO7HjD0/SWpP+pEnK+++qr07dtXKioqpHHjxl5Sl/TEvbxpgkFCLxzmlyCZiNMGyyhO99DPeYMGydzHH5f2//Iv8tepU2Xi9Omy6o035I4nn9ylOF+48045sFMnuXPQILmqW7foPqjrRnk4yHsqdzlg6PtLUn/UiTiHDh0qS5Yskddff91b1pKeuLc3ruFAoRcO86thInfzMi7V+uFXk47TvdPQ++6Te599NnrTg375S3l+7Fg5p3376OGgnTvODz//XGaMHy8Pvfii/Ntf/xrF/GvbtvL3L7+UdydPljbHHlvt5Pk7zmoR/ewLQt9fkvqjTsRpS8Guo5OeeDbm8HNjhl44zM9WEYjTD7+aitO929pvvxX3hO0xhx8u++y9d40msK6iQr775z+l9a9+FT1YVNMDcdaU1K5fF/r+ktQfiNNWDzWODr1wmF+NU/mzl6K6du0qeXl5tsGyED1hwgRZunSphP4FEknEmQVMux0Scdpoh76/IM5Av9Ip9MJhfn42BsSp45ipv1r85qAkM0WcSWhVfW3o+wviRJyqCg+9sNMyP8SpKj9BnDpucVRa1keoVzwQJ+JUrUAWngpbJoh7nH74calWx5H1q+MWRyFOxKmqIBaeChvitGGrwg9x6oCyfnXcEOeoUdGDD6FeCqCwbYWdFn5cqtXlmUu1Om5cqrVxQ5yI01RBaRFT6B+MEKeuDBGnjhvitHFDnIjTVEGI04Qv83AL4tRxRJw6bojTxg1xIk5TBSFOEz7EacPHU7W++PGMh4okDwdROKrCQZwqbDwcZMPGw0G++bH/qYgiTgpHVTiIU4UNcdqwIU7f/Nj/VEQRJ4WjKhzEqcKGOG3YEKdvfux/KqKIk8JRFQ7iVGFDnDZsiNM3P/Y/FdEGK85448/NzVWBy3ZQcXFx9PujzE9HOi38cnJydCeY5ajS0lLZuHFj+PXXrl2WSeiGL16yRCr++c/w+bH/6RIsIkVFRVF+CwsLqx2j3vw6SizOas+YF0AAAhCAAAR2QaDBitP9gXyIR0FBgZSUlETfbBTiwfxsWYn5ub/jDPGYN2+elJeXU3/K5LA+lOC2hYXOz03T7c0NTpxJr1HbyiB5NPcQkzPbPiIt/PgCBF2e05Lf0L+5ivnp6i+pP+rNpdqkJ67Dq49iY9Czc5Fp4Yc4dXlOS34RU/3Mb1J/IE5dHSSOYmNIjGyHgLTwQ5y6PKclv4izfuYXcfI4tqqy2bhU2DJB/B6nH36ISceR9avjFkchTsSpqiAWngob4rRhq8IPceqAsn513BAnX/JuqhwWngkfX/Juw5eae9iIXZfo0PcXOk46TlVlh17YaZkf9zhV5Yc4ddjo2I3c6DjpOE0llBYxhf6JH3HqypD603GLo+Bn40fHScepqiAWngob9zht2OiY4OeJgG0YxIk4VRWEOFXYEKcNG+KEnycCtmEQJ+JUVRDiVGFDnDZsiBN+ngjYhkGciFNVQYhThQ1x2rAhTvh5ImAbBnEiTlUFIU4VNsRpw4Y44eeJgG0YxIk4VRWEOFXYEKcNG+KEnycCtmFSIc5Zs2bJtGnTZNOmTdK9e3e58MILpXHjxqYzT3ripjdTBCMmBbTtQtLCjz9H0eU5LfkN/c+hmJ+u/pL6o9a/5N39LuD5558v999/v1RWVsqQIUNk6tSpctFFF+nOeFtU0hM3vZkimI1BAQ1x2qBtFz1hwgRZunRp9JuD+fn53sb1NRDrw0YSfjZ+Sf1R6+IcPny4FBcXy5tvvhmdqRPm4YcfLg899JDpzJOeuOnNFMEUtgIa4rRBQ5ze+LF+bShD55fUH7UuznfffVd++9vfyh133CE//fRT9Ol39uzZ0rlzZ1Nmkp646c0UwaEXDvNTJHUXYudSrY4j9afjFkfBz8YvqT9qXZylpaVy5plnysqVK6Mzbdq0qTiZtmnTxnTmSU/c9GaKYApbAY2O0waNjtMbP9avDWXo/JL6o9bFeckll8jq1atl5syZ0QNBvXv3ln333VdefPFFU2aSnrjpzRTBoRcO81MklY7TBi2FH4y4R6xLeej7S1J/1Lo43f1M90DQTTfdFGXgqaeekhEjRkhZWZkuI9uikp646c0UwaEXDvNTJBVx2qAhTvh5I2AbKKk/al2ceXl5Ul5eHv05irtM26dPHznhhBPEPfVnOZKeuOW9NLGISUPt/2LSwo97nLo8pyW/dJz1M79J/VHr4lyyZIlcd9118vbbb0cZ6NKlS/SnKcccc4wuI3ScJm5xMBuXDWPMD3HqOFJ/Om6sXxu3ODp4ccYTXbdunWzZskUOOeQQL2ee9MS9vGmCQdgYEsDaxUvTwg9x6vKclvzScdbP/Cb1R613nDrs1UclPfHqR/T7CjYGG8+08EOcujynJb+Is37mN6k/EKeuDhJHsTEkRrZDQFr4IU5dntOSX8RZP/OLOPlKMVVls3GpsGWCuMfphx9i0nFk/eq4pe4ep+00q0Yn/cTg+/2rG4/Cro7Qz//3tPCj49TlOS35Rez1M79J/cGlWl0dJI5iY0iMjEu1NmQ7RPMl7zaYrN/6zQ9xcqlWVeFsDCpsXKq1YavCj45OB5T1q+PGpdpRo6KfTGLh6QqIhafjFkdxj9MPP9avjiPrV8cNcSJOU+Ww8Ez4BHH64Yc4dRxZvzpuiBNxmiqHhWfChzht+DL8EKcOJOtXxw1xIk5T5bDwTPgQpw0f4oSfkYAtnIeDeDhIVUGIU4WtysMt/DmKjiP1p+O28z12OnYdR8SJOFWVw8alwoY4bdiq8GPj1wFl/eq4camWS7WmymHhmfBxqdaGj0u18DMSsIU32I4z3vhzc3NtBLMUXVxcLBUVFcL8dIDTwi8nJ0d3glmOKi0tlY0bN1J/Ss5pqT/2F2WCRaSoqChaH4WFhdUOUm++OSgWZ7VnzAsgAAEIQAACuyDQYMXp7pGEeBQUFEhJSUn0BQ0hHszPlhX4wc9GwBZN/dn4uWi3Nzc4cSa9Rm3HnGwE7iEm47Xzq+EHPxsBWzT1V7/5JfVHvblUm/TEbWWQPJqFl5zZ9hHwg5+NgC2a+qvf/JL6A3Ha6qHG0Sy8GqPa5QvhBz8bAVs09Ve/+SFO/o5TVeFsDCpsmSD4wc9GwBZN/dn4IU7EqaogFp4KG+K0YYMf/DwRsA2DOBGnqoIQpwobG78NG/zg54mAbRjEiThVFYQ4VdjY+G3Y4Ac/TwRswyBOxKmqIMSpwsbGb8MGP/h5ImAbBnEiTlUFIU4VNjZ+Gzb4wc8TAdswiBNxqioIcaqwsfHbsMEPfp4I2IZBnIhTVUGIU4WNjd+GDX7w80TANgziRJyqCkKcKmxs/DZs8IOfJwK2YRAn4lRVEOJUYWPjt2GDH/w8EbANgzgRp6qCEKcKGxu/DRv84OeJgG2Y4MVZWVkpTz75pLz22mvSvHlz6d27t3Tp0sV21iKS9MTNb5hwAMSUENhOL4cf/GwEbNHUX/3ml9Qftf4l7zNmzJDrr78++u2zn376SUaMGCHu35177rmmzCQ9cdObKYJZeApo24XAD342ArZo6q9+80vqj1oX50UXXSRt27aNOkR3XH311bJ161aZMmWKKTNJT9z0ZopgFp4CGuK0QYMf/LwRsA0U+v6X1B+1Ls5OnTrJ+eefLzfffHOUiX79+smnn34qCxYsMGUm6Ymb3kwRHHrhMD9FUhGTDRr84OeNgG2gpP6odXG6+5t33XWXPPDAA7Jp0ybp2bOntG7dWpYtW2Y686QnbnozRTBiUkBjY7VBgx/8vBGwDRT6/pfUH7Uuzu+//16uvfZaee6556RVq1bSvn376F7nK6+8YspM0hM3vZkiOPTCYX6KpCImGzT4wc8bAdtASf1R6+JcuHChtGjRQg4//HBp1KiR3HDDDbLffvtFXajlSHrilvfSxCImDbX/i4Ef/GwEbNHUX/3ml9QftS7OW265RebMmSPvv/++fPTRR+Luec6ePVtOP/10U2aSnrjpzRTBLDwFNDoSGzT4wc8bAdtAoe9/Sf1R6+L86quvpE+fPrJixQpZs2aNjB07VpxMrUfSE7e+X9L40AuH+SsO/3MAAAJMSURBVCXN6I6vhx/8bARs0dSfjV9Sf9S6OOPTKykpkZYtW8q+++5rO+Nt0UlP3MubJhiEwk4AaxcvhR/8bARs0dRf/eaX1B91Jk5bGqpGJz1x3+9f3XgsvOoI/fx/hx/8bARs0dRf/eaX1B+I01YPNY5m4dUY1S5fCD/42QjYoqm/+s0PcfIl76oKZ2NQYcsEwQ9+NgK2aOrPxg9xIk5VBbHwVNgQpw0b/ODniYBtGMSJOFUVhDhV2Nj4bdjgBz9PBGzDIE7EqaogxKnCxsZvwwY/+HkiYBsGcSJOVQUhThU2Nn4bNvjBzxMB2zCIE3GqKghxqrCx8duwwQ9+ngjYhkGciFNVQYhThY2N34YNfvDzRMA2DOJEnKoKQpwqbGz8Nmzwg58nArZhECfiVFUQ4lRhY+O3YYMf/DwRsA2DOBGnqoIQpwobG78NG/zg54mAbRjEiThVFYQ4VdjY+G3Y4Ac/TwRswyDOkSNtBLMUXVRUJO5/I5mfijD8VNgyQfCDn42ALTr0+nNn5/Zm97/8/PxqT7befcl7tWfMCyAAAQhAAAK7INAgxRlyJbhPXPGRm5sb3FSZny0l8IOfjYAtmvqz8ds+ukF1nP6wMRIEIAABCEBg9wTqzaVakgwBCEAAAhCoDQKIszYo8x4QgAAEIFBvCCDOepNKTgQCEIAABGqDAOKsDcq8BwQgAAEI1BsCiLPepJITgQAEIACB2iCAOGuDMu8BAQhAAAL1hgDirDep5EQgAAEIQKA2CCDO2qDMe0AAAhCAQL0h8P8Bxg4dY0Mgp+4AAAAASUVORK5CYII=)"
      ]
    },
    {
      "cell_type": "markdown",
      "metadata": {
        "id": "LDgMRBxejNrj"
      },
      "source": [
        "### Exercício 3\n",
        "\n",
        "Implemente as seguintes heurísticas: distância Euclidiana e distância de Manhattan."
      ]
    },
    {
      "cell_type": "code",
      "metadata": {
        "id": "GrMA5Fe-jefw"
      },
      "source": [
        "def h_euclidiana(x1, y1, x2, y2):\n",
        "  return 0 # TODO"
      ],
      "execution_count": null,
      "outputs": []
    },
    {
      "cell_type": "code",
      "metadata": {
        "id": "tWZho5izje9P"
      },
      "source": [
        "def h_manhattan(x1, y1, x2, y2):\n",
        "  return 0 # TODO"
      ],
      "execution_count": null,
      "outputs": []
    },
    {
      "cell_type": "markdown",
      "metadata": {
        "id": "z4Gna9ZKjurQ"
      },
      "source": [
        "### Exercício 4\n",
        "\n",
        "Crie uma terceira heurística à sua escolha e coloque o seu nome.\n",
        "\n",
        "Uma heurística que pode ser usada é a chamada distância de Chebyshev, que leva em consideração o máximo das diferenças nas coordenadas x e y.\n",
        "\n",
        "Essa heurística é admissível, pois nunca superestima o custo real para alcançar o objetivo. Ela é especialmente útil em problemas onde os movimentos na diagonal têm o mesmo custo que os movimentos nas direções x e y, como em um tabuleiro de xadrez. No entanto, a eficácia da heurística ainda depende da natureza do seu grafo e da relação entre os nós.\n",
        "\n",
        "Já Distância de Octile\" e é adequada para problemas em que os movimentos nas diagonais têm um custo diferente dos movimentos nas direções x e y. A Distância de Octile combina as diferenças nas coordenadas x e y e ajusta-as adequadamente para refletir o custo das diagonais.\n",
        "\n",
        "A heurística de Distância de Octile é admissível e leva em consideração os custos dos movimentos diagonais de forma mais precisa do que a Distância de Chebyshev, tornando-a adequada para problemas em que os movimentos diagonais têm um custo diferente dos movimentos nas direções x e y"
      ]
    },
    {
      "cell_type": "code",
      "metadata": {
        "id": "RZnsCtxAj1zH"
      },
      "source": [
        "def h_meu_nome(x1, y1, x2, y2):\n",
        "  return 0 # TODO\n",
        "\n",
        "\n",
        "def heuristic_chebyshev(x1,y1,x2,y2):\n",
        "\n",
        "    # Calcule as diferenças nas coordenadas x e y.\n",
        "    dx = abs(x1 - x2)\n",
        "    dy = abs(y1 - y2)\n",
        "\n",
        "    # Use a distância de Chebyshev como heurística.\n",
        "    return max(dx, dy)\n",
        "\n",
        "def heuristic_octile(x1,y1,x2,y2):\n",
        "\n",
        "\n",
        "    # Calcule as diferenças nas coordenadas x e y.\n",
        "    dx = abs(x1 - x2)\n",
        "    dy = abs(y1 - y2)\n",
        "\n",
        "    # Fator de custo para movimentos diagonais (geralmente a raiz quadrada de 2).\n",
        "    diagonal_cost = 1.4142135623730951  # Aproximadamente raiz quadrada de 2.\n",
        "\n",
        "    # Use a distância de octile como heurística.\n",
        "    return max(dx, dy) + (diagonal_cost - 2) * min(dx, dy)\n",
        "\n"
      ],
      "execution_count": null,
      "outputs": []
    },
    {
      "cell_type": "markdown",
      "metadata": {
        "id": "YfNmhM-mj6wW"
      },
      "source": [
        "### Exercício 5\n",
        "\n",
        "Execute o algoritmo A$^*$ com as três heurísticas acima e compare o resultado."
      ]
    },
    {
      "cell_type": "code",
      "metadata": {
        "id": "YlGXh2o3kCD0",
        "colab": {
          "base_uri": "https://localhost:8080/"
        },
        "outputId": "5bb88427-a037-4625-cbb4-e07e88dcde42"
      },
      "source": [
        "path = astar(maze, start, end, heuristic_chebyshev)\n",
        "print(path)"
      ],
      "execution_count": null,
      "outputs": [
        {
          "output_type": "stream",
          "name": "stdout",
          "text": [
            "([(0, 0), (1, 0), (1, 1), (2, 1), (2, 2), (3, 2), (3, 3), (4, 3), (5, 3), (5, 4), (5, 5), (6, 5), (6, 6), (7, 6)], 631)\n"
          ]
        }
      ]
    },
    {
      "cell_type": "markdown",
      "metadata": {
        "id": "mn_Pj4aNkG0E"
      },
      "source": [
        "(fim)"
      ]
    }
  ]
}