{
  "nbformat": 4,
  "nbformat_minor": 0,
  "metadata": {
    "colab": {
      "provenance": [],
      "toc_visible": true
    },
    "kernelspec": {
      "name": "python3",
      "display_name": "Python 3"
    }
  },
  "cells": [
    {
      "cell_type": "markdown",
      "metadata": {
        "id": "WBanE3VFgq2v"
      },
      "source": [
        "# Busca local e algoritmos genéticos\n",
        "\n",
        "Neste notebook, realizaremos a implementação de algoritmos de algoritmos genéticos para problemas de busca local como coloração de mapas e problema das oito rainhas.\n"
      ]
    },
    {
      "cell_type": "markdown",
      "metadata": {
        "id": "wYdCfXSwz37B"
      },
      "source": [
        "Vamos considerar o problema de coloração de grafos. Em particular, vamos considerar a instância Australia deste problema, conforme a figura abaixo.\n",
        "\n",
        "![alt text](https://www.researchgate.net/profile/Abderrazak_Daoudi/publication/325808704/figure/fig2/AS:638325140512769@1529199981896/An-example-of-graph-coloring-problem.png)\n",
        "\n",
        "Neste problema, o objetivo é colorir os territórios do mapa de tal forma que territórios vizinhos nunca tenham a mesma cor. No exemplo acima, é fácil ver que precisamos de pelo menos três cores para resolver o problema.\n",
        "\n",
        "Para que o computador consiga resolver este problema, naturalmente precisamos representá-lo de uma forma mais eficiente do que uma imagem. Desta forma, podemos representar o problema como um grafo, onde os nós representam territórios e as arestas denotam territórios vizinhos.\n",
        "\n",
        "De uma forma simples, o grafo acima pode ser representado através do dicionário a seguir, onde as chaves denotam o nome das arestas e os valores correspondentes denotam os nós conectados pela aresta. No caso abaixo, nós são representados por números, onde WA=0, NT=1, SA=2, Q=3, NSW=4, V=5 e T=6. Nota: nosso algoritmo assume que o grafo é [conectado](https://en.wikipedia.org/wiki/Connectivity_(graph_theory)#Connected_vertices_and_graphs), desta forma criamos uma aresta entre os nós V e T para o algoritmo funcionar."
      ]
    },
    {
      "cell_type": "code",
      "metadata": {
        "id": "NIZQ0Lbd3yS6"
      },
      "source": [
        "# Australia instance of the graph coloring problem; each entry represents an edge\n",
        "australia = {\n",
        "    'WA-NT': [0, 1],\n",
        "    'WA-SA': [0, 2],\n",
        "    'NT-SA': [1, 2],\n",
        "    'NT-Q': [1, 3],\n",
        "    'SA-Q': [2, 3],\n",
        "    'SA-NSW': [2, 4],\n",
        "    'SA-V': [2, 5],\n",
        "    'Q-NSW': [3, 4],\n",
        "    'NSW-V': [4, 5],\n",
        "    'V-T': [5, 6]\n",
        "}"
      ],
      "execution_count": null,
      "outputs": []
    },
    {
      "cell_type": "markdown",
      "metadata": {
        "id": "71c_zjYShmGE"
      },
      "source": [
        "\n",
        "\n",
        "## Algoritmos genéticos\n",
        "\n",
        "Abaixo, temos a implementação de um algoritmo genético. O algoritmo recebe uma população inicial (`population`), uma função de avaliação de soluções (`fn_fitness`), um conjunto de valores possíveis para cada posição da solução (`gene_pool`), uma função de critério de parada por qualidade da solução (`fn_thres`), um número máximo de gerações (`ngen`) e uma probabilidade de mutação (`pmut`). Ao final, o algoritmo retorna o melhor indivíduo (solução) da última geração de indivíduos."
      ]
    },
    {
      "cell_type": "code",
      "metadata": {
        "id": "sfHC6bcy-zYM"
      },
      "source": [
        "import random as random\n",
        "import bisect\n",
        "\n",
        "def genetic_algorithm(population, fn_fitness, gene_pool, fn_thres=None, ngen=1000, pmut=0.1):\n",
        "\n",
        "    # for each generation\n",
        "    for i in range(ngen):\n",
        "\n",
        "        # create a new population\n",
        "        new_population = []\n",
        "\n",
        "        # repeat to create len(population) individuals\n",
        "        for i in range(len(population)):\n",
        "\n",
        "          # select the parents\n",
        "          p1, p2 = select(2, population, fn_fitness)\n",
        "\n",
        "          # recombine the parents, thus producing the child\n",
        "          child = recombine(p1, p2)\n",
        "\n",
        "          # mutate the child\n",
        "          child = mutate(child, gene_pool, pmut)\n",
        "\n",
        "          # add the child to the new population\n",
        "          new_population.append(child)\n",
        "\n",
        "        # move to the new population\n",
        "        population = new_population\n",
        "\n",
        "        # check if one of the individuals achieved a fitness of fn_thres; if so, return it\n",
        "        fittest_individual = fitness_threshold(fn_fitness, fn_thres, population)\n",
        "        if fittest_individual:\n",
        "            return fittest_individual\n",
        "\n",
        "    # return the individual with highest fitness\n",
        "    return max(population, key=fn_fitness)\n",
        "\n",
        "# get the best individual of the received population and return it if its\n",
        "# fitness is higher than the specified threshold fn_thres\n",
        "def fitness_threshold(fn_fitness, fn_thres, population):\n",
        "    if not fn_thres:\n",
        "        return None\n",
        "\n",
        "    fittest_individual = max(population, key=fn_fitness)\n",
        "    if fn_fitness(fittest_individual) >= fn_thres:\n",
        "        return fittest_individual\n",
        "\n",
        "    return None"
      ],
      "execution_count": null,
      "outputs": []
    },
    {
      "cell_type": "markdown",
      "metadata": {
        "id": "gUYgC0348Zo-"
      },
      "source": [
        "Para o algoritmo acima funcionar, precisamos das seguintes funções de apoio: `fn_fitness`, `select`, `recombine` e `mutate`. A primeira função deve ser definida com base na definição do problema que queremos resolver (como no exemplo anterior, onde foi criada a função `fn_evaluate_GC` para o problema de coloração de grafos). As demais funções, por outro lado, tendem a ser mais genéricas, representando o que chamamos de operadores genéticos. Naturalmente, nem todos operadores genéticos funcionam bem em todos os problemas. Desta forma, devemos escolhar os operadores genéticos com base no problema em questão.\n",
        "\n",
        "A função `select` abaixo implementa o operador genético de seleção. Em particular, é implementada a seleção da roleta (ou seleção proporcional à aptidão). Neste método, a partir da população (`population`) e função de aptidão (`fn_fitness`) recebidas, o método retorna `r` indivíduos aleatoriamente, onde a probabilidade de um dado indivíduo ser selecionado é proporcional à sua aptidão. Este tipo de seleção faz bastante sentido na prática, pois garante que indivíduos mais aptos tenham chances maiores de produzir filhos."
      ]
    },
    {
      "cell_type": "code",
      "metadata": {
        "id": "DHOnhsXH8ZE0"
      },
      "source": [
        "# genetic operator for selection of individuals;\n",
        "# this function implements roulette wheel selection, where individuals with\n",
        "# higher fitness are selected with higher probability\n",
        "def select(r, population, fn_fitness):\n",
        "    fitnesses = map(fn_fitness, population)\n",
        "    sampler = weighted_sampler(population, fitnesses)\n",
        "    return [sampler() for i in range(r)]\n",
        "\n",
        "# return a function that whenever called returns a single sample from seq;\n",
        "# the probability of a sample being returned is proportional to its weight\n",
        "def weighted_sampler(seq, weights):\n",
        "    totals = []\n",
        "    for w in weights:\n",
        "        totals.append(w + totals[-1] if totals else w)\n",
        "    return lambda: seq[bisect.bisect(totals, random.uniform(0, totals[-1]))]"
      ],
      "execution_count": null,
      "outputs": []
    },
    {
      "cell_type": "markdown",
      "metadata": {
        "id": "8R_Z91ao8K0g"
      },
      "source": [
        "A função `recombine` abaixo implementa o operador genético de recombinação (ou cruzamento). Em particular, a função implementa a recombinação de ponto único, onde um número aleatório `c` é gerado para dividir as porções iniciais (índices 0 a c) e finais (índices c a n) dos pais (`x` e `y`). O filho é então produzido a partir da porção inicial de um dos pais e a porção final do outro."
      ]
    },
    {
      "cell_type": "code",
      "metadata": {
        "id": "crIYNuhh-ze6"
      },
      "source": [
        "# genetic operator for recombination (crossover) of individuals;\n",
        "# this function implements single-point crossover, where the resulting individual\n",
        "# carries a portion [0,c] from parent x and a portion [c,n] from parent y, with\n",
        "# c selected at random\n",
        "def recombine(x, y):\n",
        "    n = len(x)\n",
        "    c = random.randrange(0, n)\n",
        "    return x[:c] + y[c:]"
      ],
      "execution_count": null,
      "outputs": []
    },
    {
      "cell_type": "markdown",
      "metadata": {
        "id": "YGL8n3Li8Qeg"
      },
      "source": [
        "A função `mutate` abaixo implementa o operador genético de mutação. Em particular, a função implementa a mutação uniforme no indivíduo recebido `x`. Nesta mutação, um gene (posição) do indivíduo é selecionado de forma aleatória e seu valor é substituído por um dos valores possíveis (`gene_pool`) aleatoriamente. Vale observar que o indivíduo `x` só sofre mutação com probabilidade `pmut`. Note ainda que neste método apenas um gene sofre mutação."
      ]
    },
    {
      "cell_type": "code",
      "metadata": {
        "id": "1W5pbJJH-zRH"
      },
      "source": [
        "# genetic operator for mutation;\n",
        "# this function implements uniform mutation, where a single element of the\n",
        "# individual is selected at random and its value is changed by a randomly chosen\n",
        "# value (out of the possible values in gene_pool)\n",
        "def mutate(x, gene_pool, pmut):\n",
        "\n",
        "    # if random >= pmut, then no mutation is performed\n",
        "    if random.uniform(0, 1) >= pmut:\n",
        "        return x\n",
        "\n",
        "    c = random.randrange(0, len(x)) # gene to be mutated\n",
        "    r = random.randrange(0, len(gene_pool)) # new value of the selected gene\n",
        "    new_gene = gene_pool[r]\n",
        "    return x[:c] + [new_gene] + x[c+1:]"
      ],
      "execution_count": null,
      "outputs": []
    },
    {
      "cell_type": "markdown",
      "metadata": {
        "id": "GYiTi5Dl8V48"
      },
      "source": [
        "Definidos os operadores acima, agora precisamos criar um método para gerar a população inicial. Esta população deve ser gerada de forma aleatória. A função `init_population` faz exatamente isso. Para tal, ela recebe três parâmetros. O primeiro (`pop_number`) especifica o tamanho da população. O segundo (`gene_pool`) define os valores possíveis para os genes de cada indivíduo. O terceiro (`state_length`) denota o número de genes de cada indivíduo. Ao final, a função abaixo retorna uma lista com a população de indivíduos."
      ]
    },
    {
      "cell_type": "code",
      "metadata": {
        "id": "40Eu-8gB-zP6"
      },
      "source": [
        "def init_population(pop_number, gene_pool, state_length):\n",
        "    g = len(gene_pool)\n",
        "    population = []\n",
        "\n",
        "    for i in range(pop_number):\n",
        "        # each individual is represented as an array with size state_length,\n",
        "        # where each position contains a value from gene_pool selected at random\n",
        "        new_individual = [gene_pool[random.randrange(0, g)] for j in range(state_length)]\n",
        "        population.append(new_individual)\n",
        "\n",
        "    return population"
      ],
      "execution_count": null,
      "outputs": []
    },
    {
      "cell_type": "markdown",
      "metadata": {
        "id": "zJ8DWB1k9Gq8"
      },
      "source": [
        "Agora podemos nos preocupar com o problema em si. Vamos considerar novamente o problema de coloração de grafos visto anteriormente."
      ]
    },
    {
      "cell_type": "code",
      "metadata": {
        "id": "rXN2sxMe3Mzv"
      },
      "source": [
        "# Australia instance of the graph coloring problem; each entry represents an edge\n",
        "problem_instance = {\n",
        "    'WA-NT': [0, 1],\n",
        "    'WA-SA': [0, 2],\n",
        "    'NT-SA': [1, 2],\n",
        "    'NT-Q': [1, 3],\n",
        "    'SA-Q': [2, 3],\n",
        "    'SA-NSW': [2, 4],\n",
        "    'SA-V': [2, 5],\n",
        "    'Q-NSW': [3, 4],\n",
        "    'NSW-V': [4, 5],\n",
        "    'V-T': [5, 6]\n",
        "}\n",
        "\n",
        "# set of possible colours (red, green, blue)\n",
        "possible_values = ['R', 'G', 'B']\n",
        "\n",
        "# length of an individual (one position per territory)\n",
        "individual_length = 7"
      ],
      "execution_count": null,
      "outputs": []
    },
    {
      "cell_type": "markdown",
      "metadata": {
        "id": "s9NvGWHm3oUE"
      },
      "source": [
        "Para avaliar a aptidão dos indivíduos no problema de coloração de grafos, podemos utilizar a mesma classe que vimos anteriomente. Esta classe calcula a aptdidão de um indivíduo como o número de pares de territórios vizinhos que possuem cores diferentes. Lembrando que quanto maior este número, melhor."
      ]
    },
    {
      "cell_type": "code",
      "metadata": {
        "id": "a1vN-Rjo4cWe"
      },
      "source": [
        "# evaluation class;\n",
        "# since that a solution needs to be evaluated with respect to the problem instance\n",
        "# in consideration, we created this class to store the problem instance and to\n",
        "# allow the evaluation to be performed without having the problem instance at hand\n",
        "class EvaluateGC:\n",
        "    # during initialization, store the problem instance\n",
        "    def __init__(self, problem_instance):\n",
        "        self.problem_instance = problem_instance\n",
        "\n",
        "    # compute the value of the received solution\n",
        "    def __call__(self, solution):\n",
        "        # counts the number of edges that connect vertices of the same colour\n",
        "        return sum(solution[n1] != solution[n2] for (n1, n2) in self.problem_instance.values())\n",
        "\n",
        "# create an instance of the evaluation class for the considered problem instance\n",
        "fn_fitness = EvaluateGC(australia)\n",
        "# now, a solution X can be evaluated by simply calling fn_fitness(X)"
      ],
      "execution_count": null,
      "outputs": []
    },
    {
      "cell_type": "markdown",
      "metadata": {
        "id": "pdYRdd353Llx"
      },
      "source": [
        "Agora, finalmente, podemos testar nosso algoritmo."
      ]
    },
    {
      "cell_type": "code",
      "metadata": {
        "id": "f4WUIRvt9G5y",
        "colab": {
          "base_uri": "https://localhost:8080/",
          "height": 51
        },
        "outputId": "d47c5346-3a41-40f2-881a-913ede09235b"
      },
      "source": [
        "# population size\n",
        "population_size = 8\n",
        "\n",
        "# initial population\n",
        "population = init_population(population_size, possible_values, individual_length)\n",
        "\n",
        "# run the algoritm\n",
        "solution = genetic_algorithm(population, fn_fitness, gene_pool=possible_values, fn_thres=10)\n",
        "\n",
        "# print the results\n",
        "print('Resulting solution: %s' % solution)\n",
        "print('Value of resulting solution: %d' % fn_fitness(solution))"
      ],
      "execution_count": null,
      "outputs": [
        {
          "output_type": "stream",
          "text": [
            "Resulting solution: ['G', 'R', 'B', 'G', 'R', 'G', 'R']\n",
            "Value of resulting solution: 10\n"
          ],
          "name": "stdout"
        }
      ]
    },
    {
      "cell_type": "markdown",
      "metadata": {
        "id": "U7Z6rmRu5PuA"
      },
      "source": [
        "Se você testar o código acima, verá que o algoritmo genético consegue encontrar o resultado ótimo com uma certa facilidade nesta instância do problema de coloração de grafos. Lembrando que, nesta instância, a solução ótima possui um valor de 10.\n",
        "\n",
        "Novamente, lembre que o problema que estamos resolvendo aqui é o de coloração de grafos. Da mesma forma que vimos anteriormente, podemos utilizar este algoritmo para resolver outras instâncias do mesmo problema, bastando especificar as variáveis `problem_instance`, `possible_values`, `individual_length` e `fn_fitness` correspondentes.\n",
        "\n",
        "Naturalmente, dependendo do problema a ser considerado, pode ser necessário ajustar também alguns elementos do algoritmo, como os operadores genéticos. Os operadores genéticos sempre devem ser escolhidos com base na estrutura do problema."
      ]
    },
    {
      "cell_type": "markdown",
      "metadata": {
        "id": "uymd1TvXJau4"
      },
      "source": [
        "### Exercício 3\n",
        "\n",
        "Utilize o algoritmo genético para resolver a instância \"grafo de Petersen\" do problema de coloração de grafos da última aula. O número de cores possíveis aqui continua sendo 3 e o valor ótimo permanece sendo 15."
      ]
    },
    {
      "cell_type": "code",
      "metadata": {
        "id": "pS-4hXp3JbAh"
      },
      "source": [
        "# Petersen graph\n",
        "petersen = {\n",
        "    # TODO: your answer here (15 lines)\n",
        "}\n",
        "\n",
        "# set of possible colours (red, green, blue)\n",
        "possible_values = ['R', 'G', 'B']\n",
        "\n",
        "# length of an individual (one position per territory)\n",
        "individual_length = # TODO: your answer here\n",
        "\n",
        "# create an instance of the evaluation class for the considered problem instance\n",
        "fn_fitness = EvaluateGC(petersen)\n",
        "\n",
        "# population size\n",
        "population_size = 8\n",
        "\n",
        "# initial population\n",
        "population = init_population(population_size, possible_values, individual_length)\n",
        "\n",
        "# run the algoritm\n",
        "solution = genetic_algorithm(population, fn_fitness, gene_pool=possible_values, fn_thres=10)\n",
        "\n",
        "# print the results\n",
        "print('Resulting solution: %s' % solution)\n",
        "print('Value of resulting solution: %d' % fn_fitness(solution))"
      ],
      "execution_count": null,
      "outputs": []
    },
    {
      "cell_type": "markdown",
      "metadata": {
        "id": "FuArQF0Ah-3n"
      },
      "source": [
        "### Exercício 4\n",
        "\n",
        "Utilize o algoritmo genético para resolver a instância 8-rainhas do problema n-rainhas. Lembrando que na solução ótima nenhuma rainha consegue atacar as demais."
      ]
    },
    {
      "cell_type": "markdown",
      "metadata": {
        "id": "zi6NNYATjwxF"
      },
      "source": [
        "Primeiramente, implemente a classe `EvaluateNQueens`. Note que nossa implementação do operador de seleção não lida bem com valores negativos. Desta forma, devemos implementar o método `__call__` de modo a retornar um valor no intervalo $[0,max\\_conflicts]$. O número máximo de conflitos no n-Queens é $\\frac{n(n-1)}{2}$. Exemplo: para $n=8$, temos no máximo 28 conflitos; logo, ao receber uma solução com 7 conflitos, a função deve retornar 21."
      ]
    },
    {
      "cell_type": "code",
      "metadata": {
        "id": "hltYe6nNjory"
      },
      "source": [
        "# evaluation class for the n-Queens problem\n",
        "class EvaluateNQueens:\n",
        "    # during initialization, store the problem instance\n",
        "    def __init__(self, n):\n",
        "        self.n = n\n",
        "\n",
        "    # compute the value of the received solution\n",
        "    def __call__(self, solution):\n",
        "        conflicts = 0\n",
        "\n",
        "        # TODO: count the number of conflicts (7 lines) and calculate fitness\n",
        "\n",
        "        # our genetic algorithm implementation maximises the value;\n",
        "        # moreover, its selection operator does not handle negative values properly;\n",
        "        # thus, we estimate the maximum possible number of conflicts (which is\n",
        "        # given by n(n-1)/2) and subtract from it the number of conflicts of the\n",
        "        # received solution; this allows our algorithm to maximize the fitness;\n",
        "        # hence, our objective here is to get as close to n(n-1)/2 as possible\n",
        "        return fitness"
      ],
      "execution_count": null,
      "outputs": []
    },
    {
      "cell_type": "markdown",
      "metadata": {
        "id": "86Lr_2c7lkfY"
      },
      "source": [
        "Agora, implemente a instanciação do problema, configure o algoritmo genético e execute o mesmo."
      ]
    },
    {
      "cell_type": "code",
      "metadata": {
        "id": "-pSmrnxriKEz"
      },
      "source": [
        "# instance of the N-Queens problem\n",
        "n = 8\n",
        "\n",
        "# create an instance of the evaluation class for the considered problem instance\n",
        "fn_fitness = EvaluateNQueens(n)\n",
        "\n",
        "# set of possible values\n",
        "possible_values = # TODO: your answer here\n",
        "\n",
        "# initial state (we begin with a solution where all queens are on the same row)\n",
        "init_state = # TODO: your answer here\n",
        "\n",
        "# population size\n",
        "population_size = 8\n",
        "\n",
        "# initial population\n",
        "population = init_population(population_size, possible_values, n)\n",
        "\n",
        "# run the algoritm\n",
        "solution = genetic_algorithm(population, fn_fitness, gene_pool=possible_values, fn_thres=28, ngen=1000)\n",
        "\n",
        "# print the results\n",
        "print('Resulting solution: %s' % solution)\n",
        "print('Value of resulting solution (the higher the better): %d' % fn_fitness(solution))"
      ],
      "execution_count": null,
      "outputs": []
    },
    {
      "cell_type": "markdown",
      "metadata": {
        "id": "4G0K7PhjiWQF"
      },
      "source": [
        "### Exercício 5\n",
        "\n",
        "Implemente o operador de mutação do algoritmo genético. Existem diversas possibilidades aqui. Uma sugestão é a mutação baseada em troca de posições (swap), onde duas posições são selecionadas aleatoriamente e seus valores são trocados. Mais detalhes (e outras opções) em: [link 1](https://link.springer.com/chapter/10.1007/978-1-4614-6940-7_4), [link 2](https://www.inf.ufsc.br/~alexandre.goncalves.silva/courses/14s2/ine5633/slides/aulaAG.pdf), [link 3](https://sites.icmc.usp.br/andre/research/genetic/) e [link 4](http://www2.peq.coppe.ufrj.br/Pessoal/Professores/Arge/COQ897/Naturais/aulas_piloto/aula4.pdf). Em seguida, rode o algoritmo nos problemas dos dois exercícios anteriores e compare o resultado das execuções do algoritmo genético com a mutação original e a criada aqui."
      ]
    },
    {
      "cell_type": "code",
      "metadata": {
        "id": "uxT8QsFzwrSz"
      },
      "source": [
        "def mutate(x, gene_pool, pmut):\n",
        "    # TODO: your answer here\n",
        "    return x"
      ],
      "execution_count": null,
      "outputs": []
    },
    {
      "cell_type": "markdown",
      "metadata": {
        "id": "-R-lSHhFl9xQ"
      },
      "source": [
        "Agora, execute o algoritmo genético anterior com o novo operador de mutação."
      ]
    },
    {
      "cell_type": "code",
      "metadata": {
        "id": "SXnZI69Dl9Dq"
      },
      "source": [
        "# run the algoritm\n",
        "solution = genetic_algorithm(population, fn_fitness, gene_pool=possible_values, fn_thres=28, ngen=1000)\n",
        "\n",
        "# print the results\n",
        "print('Resulting solution: %s' % solution)\n",
        "print('Value of resulting solution (the higher the better): %d' % fn_fitness(solution))"
      ],
      "execution_count": null,
      "outputs": []
    }
  ]
}